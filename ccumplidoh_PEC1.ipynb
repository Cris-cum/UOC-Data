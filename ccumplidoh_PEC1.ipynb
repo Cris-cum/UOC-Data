{
 "cells": [
  {
   "cell_type": "markdown",
   "metadata": {},
   "source": [
    "## PEC1: VERSIÓN SIN CLAVES"
   ]
  },
  {
   "cell_type": "markdown",
   "metadata": {},
   "source": [
    "### Import de las librerías necesarias"
   ]
  },
  {
   "cell_type": "code",
   "execution_count": 1,
   "metadata": {},
   "outputs": [
    {
     "name": "stdout",
     "output_type": "stream",
     "text": [
      "Requirement already satisfied: tabulate in c:\\users\\crist\\anaconda3\\lib\\site-packages (0.9.0)\n",
      "Note: you may need to restart the kernel to use updated packages.\n"
     ]
    }
   ],
   "source": [
    "pip install tabulate\n"
   ]
  },
  {
   "cell_type": "code",
   "execution_count": 2,
   "metadata": {},
   "outputs": [],
   "source": [
    "import pandas as pd\n",
    "import json\n",
    "import urllib\n",
    "import requests as rq\n",
    "import base64"
   ]
  },
  {
   "cell_type": "markdown",
   "metadata": {},
   "source": [
    "### 1. Define una función para leer un fichero csv y que devuelva en dataframe (puedes utilizar la función predefinida de Pandas) (2 puntos)"
   ]
  },
  {
   "cell_type": "code",
   "execution_count": 3,
   "metadata": {},
   "outputs": [],
   "source": [
    "def leer_csv(ruta_archivo):\n",
    "    # Leer el archivo CSV y devolver el dataframe\n",
    "    df = pd.read_csv(ruta_archivo)\n",
    "    return df\n"
   ]
  },
  {
   "cell_type": "code",
   "execution_count": 4,
   "metadata": {},
   "outputs": [
    {
     "name": "stdout",
     "output_type": "stream",
     "text": [
      "   Unnamed: 0.1  Unnamed: 0  index  propertyCode  \\\n",
      "0             0           0      0      37423711   \n",
      "1             1           1      1     100030792   \n",
      "2             2           2      2      95563945   \n",
      "3             3           3      3      96266051   \n",
      "4             4           4      4      95845899   \n",
      "\n",
      "                                           thumbnail externalReference  \\\n",
      "0  https://img3.idealista.com/blur/WEB_LISTING/0/...            Z-2030   \n",
      "1  https://img3.idealista.com/blur/WEB_LISTING/0/...              2019   \n",
      "2  https://img3.idealista.com/blur/WEB_LISTING/0/...          52931158   \n",
      "3  https://img3.idealista.com/blur/WEB_LISTING/0/...         4113 ALIV   \n",
      "4  https://img3.idealista.com/blur/WEB_LISTING/0/...          52457390   \n",
      "\n",
      "   numPhotos floor     price propertyType  ...  \\\n",
      "0         31     2  285000.0         flat  ...   \n",
      "1         54   NaN  178216.0         flat  ...   \n",
      "2         13   NaN  333000.0         flat  ...   \n",
      "3         27     2  481000.0         flat  ...   \n",
      "4         10   NaN  481000.0         flat  ...   \n",
      "\n",
      "                                      suggestedTexts  hasPlan  has3DTour  \\\n",
      "0  {'subtitle': 'El Gòtic, Barcelona', 'title': '...     True      False   \n",
      "1  {'subtitle': 'El Guinardó, Barcelona', 'title'...    False      False   \n",
      "2  {'subtitle': 'El Gòtic, Barcelona', 'title': '...    False      False   \n",
      "3  {'subtitle': \"La Dreta de l'Eixample, Barcelon...    False      False   \n",
      "4  {'subtitle': \"La Dreta de l'Eixample, Barcelon...    False      False   \n",
      "\n",
      "   has360  hasStaging superTopHighlight topNewDevelopment labels parkingSpace  \\\n",
      "0   False       False             False             False    NaN          NaN   \n",
      "1   False       False             False             False    NaN          NaN   \n",
      "2    True       False             False             False    NaN          NaN   \n",
      "3   False       False             False             False    NaN          NaN   \n",
      "4    True       False             False             False    NaN          NaN   \n",
      "\n",
      "  newDevelopmentFinished  \n",
      "0                    NaN  \n",
      "1                    NaN  \n",
      "2                    NaN  \n",
      "3                    NaN  \n",
      "4                    NaN  \n",
      "\n",
      "[5 rows x 43 columns]\n"
     ]
    }
   ],
   "source": [
    "ruta = \"C:/Users/crist/OneDrive/Desktop/UOC/BBDD_1.csv\"\n",
    "df = leer_csv(ruta)\n",
    "print(df.head())  \n"
   ]
  },
  {
   "cell_type": "markdown",
   "metadata": {},
   "source": [
    "### 2. Se pide realizar la lectura de los n ficheros csv utilizando la función definida anteriormente. Se valorará utilizar expresiones regulares para que el código sea válido para leer n ficheros y devolver una lista de n dataframes. Recuerda que puedes utilizar bucles para hacerlo. (3 puntos)"
   ]
  },
  {
   "cell_type": "code",
   "execution_count": 5,
   "metadata": {},
   "outputs": [
    {
     "name": "stdout",
     "output_type": "stream",
     "text": [
      "   Unnamed: 0.1  Unnamed: 0  index  propertyCode  \\\n",
      "0             0           0      0      37423711   \n",
      "1             1           1      1     100030792   \n",
      "2             2           2      2      95563945   \n",
      "3             3           3      3      96266051   \n",
      "4             4           4      4      95845899   \n",
      "\n",
      "                                           thumbnail externalReference  \\\n",
      "0  https://img3.idealista.com/blur/WEB_LISTING/0/...            Z-2030   \n",
      "1  https://img3.idealista.com/blur/WEB_LISTING/0/...              2019   \n",
      "2  https://img3.idealista.com/blur/WEB_LISTING/0/...          52931158   \n",
      "3  https://img3.idealista.com/blur/WEB_LISTING/0/...         4113 ALIV   \n",
      "4  https://img3.idealista.com/blur/WEB_LISTING/0/...          52457390   \n",
      "\n",
      "   numPhotos floor     price propertyType  ...  \\\n",
      "0         31     2  285000.0         flat  ...   \n",
      "1         54   NaN  178216.0         flat  ...   \n",
      "2         13   NaN  333000.0         flat  ...   \n",
      "3         27     2  481000.0         flat  ...   \n",
      "4         10   NaN  481000.0         flat  ...   \n",
      "\n",
      "                                      suggestedTexts  hasPlan  has3DTour  \\\n",
      "0  {'subtitle': 'El Gòtic, Barcelona', 'title': '...     True      False   \n",
      "1  {'subtitle': 'El Guinardó, Barcelona', 'title'...    False      False   \n",
      "2  {'subtitle': 'El Gòtic, Barcelona', 'title': '...    False      False   \n",
      "3  {'subtitle': \"La Dreta de l'Eixample, Barcelon...    False      False   \n",
      "4  {'subtitle': \"La Dreta de l'Eixample, Barcelon...    False      False   \n",
      "\n",
      "   has360  hasStaging superTopHighlight topNewDevelopment labels parkingSpace  \\\n",
      "0   False       False             False             False    NaN          NaN   \n",
      "1   False       False             False             False    NaN          NaN   \n",
      "2    True       False             False             False    NaN          NaN   \n",
      "3   False       False             False             False    NaN          NaN   \n",
      "4    True       False             False             False    NaN          NaN   \n",
      "\n",
      "  newDevelopmentFinished  \n",
      "0                    NaN  \n",
      "1                    NaN  \n",
      "2                    NaN  \n",
      "3                    NaN  \n",
      "4                    NaN  \n",
      "\n",
      "[5 rows x 43 columns]\n"
     ]
    }
   ],
   "source": [
    "import os  # Asegúrate de importar os\n",
    "\n",
    "def leer_csv(ruta_archivo):\n",
    "    df = pd.read_csv(ruta_archivo)\n",
    "    return df\n",
    "\n",
    "def leer_varios_csv(ruta_directorio, num_archivos):\n",
    "    lista_dataframes = []\n",
    "    \n",
    "    for i in range(1, num_archivos + 1):\n",
    "        nombre_archivo = f\"BBDD_{i}.csv\"  \n",
    "        ruta_archivo = os.path.join(ruta_directorio, nombre_archivo)\n",
    "        \n",
    "        if os.path.exists(ruta_archivo):\n",
    "            df = leer_csv(ruta_archivo)\n",
    "            lista_dataframes.append(df)\n",
    "        else:\n",
    "            print(f\"El archivo {nombre_archivo} no existe.\")\n",
    "    \n",
    "    return lista_dataframes\n",
    "\n",
    "ruta_directorio = \"C:/Users/crist/OneDrive/Desktop/UOC\"  \n",
    "lista_dataframes = leer_varios_csv(ruta_directorio, 8)\n",
    "\n",
    "if lista_dataframes:\n",
    "    print(lista_dataframes[0].head())\n"
   ]
  },
  {
   "cell_type": "code",
   "execution_count": 6,
   "metadata": {},
   "outputs": [
    {
     "name": "stdout",
     "output_type": "stream",
     "text": [
      "Archivo BBDD_1 tiene 3500 filas.\n",
      "Archivo BBDD_2 tiene 68 filas.\n",
      "Archivo BBDD_3 tiene 2225 filas.\n",
      "Archivo BBDD_4 tiene 5400 filas.\n",
      "Archivo BBDD_5 tiene 4499 filas.\n",
      "Archivo BBDD_6 tiene 2266 filas.\n",
      "Archivo BBDD_7 tiene 1114 filas.\n",
      "Archivo BBDD_8 tiene 2114 filas.\n"
     ]
    }
   ],
   "source": [
    "# Verifico info de los df como el n de row.\n",
    "for i, df in enumerate(lista_dataframes, 1):\n",
    "    print(f\"Archivo BBDD_{i} tiene {len(df)} filas.\")\n"
   ]
  },
  {
   "cell_type": "markdown",
   "metadata": {},
   "source": [
    "### 3. Ahora debéis unificar los dataframes de la lista de dataframes para generar un dataset con todas las viviendas a analizar. (2.5 puntos)"
   ]
  },
  {
   "cell_type": "code",
   "execution_count": 7,
   "metadata": {},
   "outputs": [
    {
     "name": "stdout",
     "output_type": "stream",
     "text": [
      "   Unnamed: 0.1  Unnamed: 0  index  propertyCode  \\\n",
      "0           0.0         0.0    0.0      37423711   \n",
      "1           1.0         1.0    1.0     100030792   \n",
      "2           2.0         2.0    2.0      95563945   \n",
      "3           3.0         3.0    3.0      96266051   \n",
      "4           4.0         4.0    4.0      95845899   \n",
      "\n",
      "                                           thumbnail externalReference  \\\n",
      "0  https://img3.idealista.com/blur/WEB_LISTING/0/...            Z-2030   \n",
      "1  https://img3.idealista.com/blur/WEB_LISTING/0/...              2019   \n",
      "2  https://img3.idealista.com/blur/WEB_LISTING/0/...          52931158   \n",
      "3  https://img3.idealista.com/blur/WEB_LISTING/0/...         4113 ALIV   \n",
      "4  https://img3.idealista.com/blur/WEB_LISTING/0/...          52457390   \n",
      "\n",
      "   numPhotos floor     price propertyType  ...  \\\n",
      "0       31.0     2  285000.0         flat  ...   \n",
      "1       54.0   NaN  178216.0         flat  ...   \n",
      "2       13.0   NaN  333000.0         flat  ...   \n",
      "3       27.0     2  481000.0         flat  ...   \n",
      "4       10.0   NaN  481000.0         flat  ...   \n",
      "\n",
      "                                      suggestedTexts  hasPlan  has3DTour  \\\n",
      "0  {'subtitle': 'El Gòtic, Barcelona', 'title': '...     True      False   \n",
      "1  {'subtitle': 'El Guinardó, Barcelona', 'title'...    False      False   \n",
      "2  {'subtitle': 'El Gòtic, Barcelona', 'title': '...    False      False   \n",
      "3  {'subtitle': \"La Dreta de l'Eixample, Barcelon...    False      False   \n",
      "4  {'subtitle': \"La Dreta de l'Eixample, Barcelon...    False      False   \n",
      "\n",
      "   has360  hasStaging superTopHighlight topNewDevelopment labels parkingSpace  \\\n",
      "0   False       False             False             False    NaN          NaN   \n",
      "1   False       False             False             False    NaN          NaN   \n",
      "2    True       False             False             False    NaN          NaN   \n",
      "3   False       False             False             False    NaN          NaN   \n",
      "4    True       False             False             False    NaN          NaN   \n",
      "\n",
      "  newDevelopmentFinished  \n",
      "0                    NaN  \n",
      "1                    NaN  \n",
      "2                    NaN  \n",
      "3                    NaN  \n",
      "4                    NaN  \n",
      "\n",
      "[5 rows x 43 columns]\n"
     ]
    }
   ],
   "source": [
    "import pandas as pd\n",
    "\n",
    "# Unificar los DataFrames de la lista en uno solo\n",
    "df_unificado = pd.concat(lista_dataframes, ignore_index=True)\n",
    "\n",
    "# Verificar las primeras filas del DataFrame unificado\n",
    "print(df_unificado.head())\n"
   ]
  },
  {
   "cell_type": "code",
   "execution_count": 8,
   "metadata": {},
   "outputs": [
    {
     "name": "stdout",
     "output_type": "stream",
     "text": [
      "Filas y columnas del DataFrame unificado: (21186, 43)\n"
     ]
    }
   ],
   "source": [
    "# Verificamos que se han unido los dataframe contando las filas, salen 21186, y nos cuadra con la suma de las filas del ejercicio anterior.\n",
    "print(f\"Filas y columnas del DataFrame unificado: {df_unificado.shape}\")\n"
   ]
  },
  {
   "cell_type": "code",
   "execution_count": 12,
   "metadata": {},
   "outputs": [
    {
     "name": "stdout",
     "output_type": "stream",
     "text": [
      "    Unnamed: 0.1  Unnamed: 0  index  propertyCode  \\\n",
      "0            0.0         0.0    0.0      37423711   \n",
      "1            1.0         1.0    1.0     100030792   \n",
      "2            2.0         2.0    2.0      95563945   \n",
      "3            3.0         3.0    3.0      96266051   \n",
      "4            4.0         4.0    4.0      95845899   \n",
      "5            5.0         5.0    5.0      98225620   \n",
      "6            6.0         6.0    6.0      99771151   \n",
      "7            7.0         7.0    7.0      98758746   \n",
      "8            8.0         8.0    8.0      99779354   \n",
      "9            9.0         9.0    9.0      96815655   \n",
      "10          10.0        10.0   10.0      98177147   \n",
      "11          11.0        11.0   11.0      99755515   \n",
      "12          12.0        12.0   12.0      97308292   \n",
      "13          13.0        13.0   13.0      98034067   \n",
      "14          14.0        14.0   14.0      99579382   \n",
      "15          15.0        15.0   15.0      96918486   \n",
      "16          16.0        16.0   16.0      99240983   \n",
      "17          17.0        17.0   17.0      97489185   \n",
      "18          18.0        18.0   18.0      99582844   \n",
      "19          19.0        19.0   19.0      37315192   \n",
      "20          20.0        20.0   20.0      98869812   \n",
      "21          21.0        21.0   21.0      99812885   \n",
      "22          22.0        22.0   22.0      99987518   \n",
      "23          23.0        23.0   23.0      98329495   \n",
      "24          24.0        24.0   24.0      98396732   \n",
      "25          25.0        25.0   25.0      98396743   \n",
      "26          26.0        26.0   26.0      98397910   \n",
      "27          27.0        27.0   27.0      98284804   \n",
      "28          28.0        28.0   28.0      98284803   \n",
      "29          29.0        29.0   29.0      98284802   \n",
      "30          30.0        30.0   30.0      97829467   \n",
      "31          31.0        31.0   31.0      99844724   \n",
      "32          32.0        32.0   32.0      94245271   \n",
      "33          33.0        33.0   33.0      99390583   \n",
      "34          34.0        34.0   34.0      99784665   \n",
      "35          35.0        35.0   35.0      99276502   \n",
      "36          36.0        36.0   36.0      99503224   \n",
      "37          37.0        37.0   37.0      98735681   \n",
      "38          38.0        38.0   38.0      99507786   \n",
      "39          39.0        39.0   39.0      99348978   \n",
      "40          40.0        40.0   40.0      97731178   \n",
      "41          41.0        41.0   41.0      99363366   \n",
      "42          42.0        42.0   42.0      98760662   \n",
      "43          43.0        43.0   43.0      99539485   \n",
      "44          44.0        44.0   44.0      99219129   \n",
      "45          45.0        45.0   45.0      99684453   \n",
      "46          46.0        46.0   46.0      99278150   \n",
      "47          47.0        47.0   47.0      98990503   \n",
      "48          48.0        48.0   48.0      98423503   \n",
      "49          49.0        49.0   49.0      98729545   \n",
      "\n",
      "                                                                                       thumbnail  \\\n",
      "0   https://img3.idealista.com/blur/WEB_LISTING/0/id.pro.es.image.master/75/65/7d/1051146532.jpg   \n",
      "1   https://img3.idealista.com/blur/WEB_LISTING/0/id.pro.es.image.master/08/c0/ea/1065800123.jpg   \n",
      "2    https://img3.idealista.com/blur/WEB_LISTING/0/id.pro.es.image.master/cf/05/33/921983717.jpg   \n",
      "3    https://img3.idealista.com/blur/WEB_LISTING/0/id.pro.es.image.master/dd/0e/ff/942136095.jpg   \n",
      "4    https://img3.idealista.com/blur/WEB_LISTING/0/id.pro.es.image.master/17/29/61/930553000.jpg   \n",
      "5   https://img3.idealista.com/blur/WEB_LISTING/0/id.pro.es.image.master/f1/1e/79/1004597535.jpg   \n",
      "6   https://img3.idealista.com/blur/WEB_LISTING/0/id.pro.es.image.master/8b/eb/81/1054092370.jpg   \n",
      "7   https://img3.idealista.com/blur/WEB_LISTING/0/id.pro.es.image.master/c5/5f/e8/1022786950.jpg   \n",
      "8   https://img3.idealista.com/blur/WEB_LISTING/0/id.pro.es.image.master/6a/a3/c0/1054305865.jpg   \n",
      "9    https://img3.idealista.com/blur/WEB_LISTING/0/id.pro.es.image.master/b0/14/0e/982570994.jpg   \n",
      "10  https://img3.idealista.com/blur/WEB_LISTING/0/id.pro.es.image.master/0f/43/1c/1003179266.jpg   \n",
      "11  https://img3.idealista.com/blur/WEB_LISTING/0/id.pro.es.image.master/c5/9f/e3/1053676999.jpg   \n",
      "12   https://img3.idealista.com/blur/WEB_LISTING/0/id.pro.es.image.master/54/4a/16/975424755.jpg   \n",
      "13   https://img3.idealista.com/blur/WEB_LISTING/0/id.pro.es.image.master/53/d2/c7/998858147.jpg   \n",
      "14  https://img3.idealista.com/blur/WEB_LISTING/0/id.pro.es.image.master/46/a1/6f/1048154523.jpg   \n",
      "15   https://img3.idealista.com/blur/WEB_LISTING/0/id.pro.es.image.master/a0/e8/98/960395927.jpg   \n",
      "16  https://img3.idealista.com/blur/WEB_LISTING/0/id.pro.es.image.master/4e/79/15/1037569029.jpg   \n",
      "17  https://img3.idealista.com/blur/WEB_LISTING/0/id.pro.es.image.master/62/4f/07/1055831374.jpg   \n",
      "18  https://img3.idealista.com/blur/WEB_LISTING/0/id.pro.es.image.master/df/0b/36/1048238512.jpg   \n",
      "19  https://img3.idealista.com/blur/WEB_LISTING/0/id.pro.es.image.master/d0/b3/eb/1009453943.jpg   \n",
      "20  https://img3.idealista.com/blur/WEB_LISTING/0/id.pro.es.image.master/24/41/f7/1026390080.jpg   \n",
      "21  https://img3.idealista.com/blur/WEB_LISTING/0/id.pro.es.image.master/ca/af/21/1055488891.jpg   \n",
      "22  https://img3.idealista.com/blur/WEB_LISTING/0/id.pro.es.image.master/b8/1e/d4/1063629199.jpg   \n",
      "23  https://img3.idealista.com/blur/WEB_LISTING/0/id.pro.es.image.master/16/23/5a/1008293652.jpg   \n",
      "24  https://img3.idealista.com/blur/WEB_LISTING/0/id.pro.es.image.master/31/22/ec/1015266977.jpg   \n",
      "25  https://img3.idealista.com/blur/WEB_LISTING/0/id.pro.es.image.master/36/f5/57/1015267029.jpg   \n",
      "26  https://img3.idealista.com/blur/WEB_LISTING/0/id.pro.es.image.master/80/7b/5a/1015266927.jpg   \n",
      "27  https://img3.idealista.com/blur/WEB_LISTING/0/id.pro.es.image.master/cc/1f/ee/1006662940.jpg   \n",
      "28  https://img3.idealista.com/blur/WEB_LISTING/0/id.pro.es.image.master/b8/e4/46/1006662935.jpg   \n",
      "29  https://img3.idealista.com/blur/WEB_LISTING/0/id.pro.es.image.master/ec/7b/7c/1006662919.jpg   \n",
      "30  https://img3.idealista.com/blur/WEB_LISTING/0/id.pro.es.image.master/4a/9a/83/1063611990.jpg   \n",
      "31  https://img3.idealista.com/blur/WEB_LISTING/0/id.pro.es.image.master/d8/a3/3f/1057008412.jpg   \n",
      "32  https://img3.idealista.com/blur/WEB_LISTING/0/id.pro.es.image.master/3e/a8/eb/1057305736.jpg   \n",
      "33  https://img3.idealista.com/blur/WEB_LISTING/0/id.pro.es.image.master/2a/61/17/1042399438.jpg   \n",
      "34  https://img3.idealista.com/blur/WEB_LISTING/0/id.pro.es.image.master/a1/52/59/1054455907.jpg   \n",
      "35  https://img3.idealista.com/blur/WEB_LISTING/0/id.pro.es.image.master/c7/32/ca/1038923205.jpg   \n",
      "36  https://img3.idealista.com/blur/WEB_LISTING/0/id.pro.es.image.master/e3/95/a1/1046002195.jpg   \n",
      "37  https://img3.idealista.com/blur/WEB_LISTING/0/id.pro.es.image.master/4d/f3/a0/1022068141.jpg   \n",
      "38  https://img3.idealista.com/blur/WEB_LISTING/0/id.pro.es.image.master/c1/c1/77/1046135324.jpg   \n",
      "39  https://img3.idealista.com/blur/WEB_LISTING/0/id.pro.es.image.master/6f/1d/8a/1041045267.jpg   \n",
      "40   https://img3.idealista.com/blur/WEB_LISTING/0/id.pro.es.image.master/a3/73/66/991825668.jpg   \n",
      "41  https://img3.idealista.com/blur/WEB_LISTING/0/id.pro.es.image.master/d0/d3/d9/1065107668.jpg   \n",
      "42  https://img3.idealista.com/blur/WEB_LISTING/0/id.pro.es.image.master/37/85/68/1022857549.jpg   \n",
      "43  https://img3.idealista.com/blur/WEB_LISTING/0/id.pro.es.image.master/09/ea/72/1046903972.jpg   \n",
      "44  https://img3.idealista.com/blur/WEB_LISTING/0/id.pro.es.image.master/b3/9f/52/1037014404.jpg   \n",
      "45  https://img3.idealista.com/blur/WEB_LISTING/0/id.pro.es.image.master/3b/b3/c2/1051286516.jpg   \n",
      "46  https://img3.idealista.com/blur/WEB_LISTING/0/id.pro.es.image.master/f4/dc/d8/1039122555.jpg   \n",
      "47  https://img3.idealista.com/blur/WEB_LISTING/0/id.pro.es.image.master/e7/83/94/1030668747.jpg   \n",
      "48  https://img3.idealista.com/blur/WEB_LISTING/0/id.pro.es.image.master/5e/b1/e8/1011703851.jpg   \n",
      "49  https://img3.idealista.com/blur/WEB_LISTING/0/id.pro.es.image.master/8a/fc/cf/1021851962.jpg   \n",
      "\n",
      "      externalReference  numPhotos floor     price propertyType operation  \\\n",
      "0                Z-2030       31.0     2  285000.0         flat      sale   \n",
      "1                  2019       54.0   NaN  178216.0         flat      sale   \n",
      "2              52931158       13.0   NaN  333000.0         flat      sale   \n",
      "3             4113 ALIV       27.0     2  481000.0         flat      sale   \n",
      "4              52457390       10.0   NaN  481000.0         flat      sale   \n",
      "5   LIM0000187135-AFFS1       17.0     5  291000.0         flat      sale   \n",
      "6           AB-SAFA-238       13.0     3  195000.0         flat      sale   \n",
      "7              PIS4152V       47.0    bj  366200.0       duplex      sale   \n",
      "8             DM-SF-VIL       14.0     3  195000.0         flat      sale   \n",
      "9              60413308       17.0    bj  366200.0       duplex      sale   \n",
      "10             60413308        1.0   NaN  366200.0         flat      sale   \n",
      "11                A-bl1       14.0     3  185000.0         flat      sale   \n",
      "12            560174546        1.0   NaN  366200.0         flat      sale   \n",
      "13                06070       12.0    bj  366200.0         flat      sale   \n",
      "14              1107891       19.0    bj  366200.0         flat      sale   \n",
      "15     INV27CA74-INVXG1        5.0     7  360000.0         flat      sale   \n",
      "16                  NaN        9.0     3  275000.0         flat      sale   \n",
      "17                CBP91        6.0     9  360000.0         flat      sale   \n",
      "18              PRI -01        7.0     3  640000.0         flat      sale   \n",
      "19               Z-2011       29.0     1  475000.0         flat      sale   \n",
      "20              AHB8013       23.0     3  460000.0         flat      sale   \n",
      "21                  NaN       17.0     1  160000.0         flat      sale   \n",
      "22               Y80428       17.0    bj  250000.0         flat      sale   \n",
      "23               LOR790        6.0     3  660000.0         flat      sale   \n",
      "24                 1576       22.0     4  275000.0         flat      sale   \n",
      "25                 1578       22.0     6  275000.0         flat      sale   \n",
      "26                 1575       22.0     1  275000.0         flat      sale   \n",
      "27                 2086        2.0   NaN  275000.0         flat      sale   \n",
      "28                 2085        2.0   NaN  275000.0         flat      sale   \n",
      "29                 2084        2.0   NaN  275000.0         flat      sale   \n",
      "30                 V736       32.0     3  195000.0         flat      sale   \n",
      "31            EGK0400_1        4.0     1  275000.0         flat      sale   \n",
      "32               Calsep       27.0     3  285000.0         flat      sale   \n",
      "33                  NaN       31.0     8  540000.0         flat      sale   \n",
      "34             BVCP4095       62.0     4  598000.0    penthouse      sale   \n",
      "35          Ref: 956900       14.0     4  600000.0    penthouse      sale   \n",
      "36                  NaN       11.0     4  370000.0         flat      sale   \n",
      "37                 6002        8.0     6  297000.0         flat      sale   \n",
      "38                  NaN       30.0    15  645000.0         flat      sale   \n",
      "39                  NaN       16.0     1  690000.0         flat      sale   \n",
      "40             W-02OR7J        6.0    bj  260000.0         flat      sale   \n",
      "41             ÀTI_1684       25.0     4  155000.0    penthouse      sale   \n",
      "42             QQ-11132       25.0     2  480000.0         flat      sale   \n",
      "43             W-02QM6E       42.0   NaN  259000.0       duplex      sale   \n",
      "44                44271       16.0     4  350000.0         flat      sale   \n",
      "45   RZPDR-454-DIVINITY       27.0   NaN  399000.0       chalet      sale   \n",
      "46             BCNP4966       22.0    en  485000.0         flat      sale   \n",
      "47           AB-MAR-380       31.0     5  380000.0    penthouse      sale   \n",
      "48               613529       31.0     1  260000.0         flat      sale   \n",
      "49               DH-564       13.0     2  699000.0         flat      sale   \n",
      "\n",
      "     size  exterior  rooms  bathrooms  \n",
      "0    63.0      True    2.0        2.0  \n",
      "1    65.0      True    2.0        1.0  \n",
      "2    97.0     False    4.0        1.0  \n",
      "3    65.0      True    2.0        1.0  \n",
      "4    72.0     False    2.0        1.0  \n",
      "5    62.0      True    1.0        1.0  \n",
      "6    60.0     False    1.0        1.0  \n",
      "7   251.0     False    1.0        2.0  \n",
      "8    60.0     False    1.0        1.0  \n",
      "9   251.0      True    2.0        1.0  \n",
      "10  107.0     False    1.0        2.0  \n",
      "11   93.0      True    4.0        1.0  \n",
      "12  107.0     False    1.0        2.0  \n",
      "13  200.0     False    1.0        1.0  \n",
      "14  107.0      True    1.0        2.0  \n",
      "15   60.0      True    1.0        1.0  \n",
      "16   85.0      True    4.0        1.0  \n",
      "17   59.0      True    1.0        1.0  \n",
      "18   98.0      True    2.0        2.0  \n",
      "19   88.0      True    2.0        2.0  \n",
      "20   89.0      True    4.0        2.0  \n",
      "21   80.0     False    2.0        1.0  \n",
      "22   65.0     False    3.0        1.0  \n",
      "23  170.0      True    5.0        2.0  \n",
      "24   79.0      True    4.0        1.0  \n",
      "25   86.0      True    4.0        1.0  \n",
      "26   87.0      True    4.0        1.0  \n",
      "27   79.0     False    4.0        1.0  \n",
      "28   86.0     False    4.0        1.0  \n",
      "29   87.0     False    4.0        1.0  \n",
      "30   74.0      True    3.0        2.0  \n",
      "31   87.0      True    4.0        1.0  \n",
      "32   74.0      True    3.0        1.0  \n",
      "33   80.0      True    3.0        1.0  \n",
      "34   65.0      True    3.0        3.0  \n",
      "35   98.0      True    2.0        1.0  \n",
      "36  105.0      True    4.0        2.0  \n",
      "37   80.0      True    4.0        1.0  \n",
      "38  124.0      True    2.0        2.0  \n",
      "39  180.0      True    3.0        2.0  \n",
      "40  101.0      True    1.0        1.0  \n",
      "41   70.0      True    3.0        1.0  \n",
      "42   98.0     False    3.0        2.0  \n",
      "43  125.0      True    2.0        2.0  \n",
      "44   87.0     False    4.0        1.0  \n",
      "45   89.0     False    3.0        2.0  \n",
      "46  127.0      True    3.0        2.0  \n",
      "47   88.0      True    1.0        1.0  \n",
      "48   96.0      True    3.0        2.0  \n",
      "49  169.0     False    4.0        2.0  \n"
     ]
    }
   ],
   "source": [
    "print(df_unificado.iloc[:50, :15])  # primeras 50 filas y 15 columnas\n"
   ]
  },
  {
   "cell_type": "markdown",
   "metadata": {},
   "source": [
    "### 4. Por último vamos a exportar los datos a un fichero csv para poder almacenarlos y no perderlos al final de la ejecución. (1.5 puntos)"
   ]
  },
  {
   "cell_type": "code",
   "execution_count": 11,
   "metadata": {},
   "outputs": [
    {
     "name": "stdout",
     "output_type": "stream",
     "text": [
      "Datos exportados correctamente a df_unificado.csv\n"
     ]
    }
   ],
   "source": [
    "df_unificado.to_csv('df_unificado.csv', index=False)\n",
    "\n",
    "print(\"Datos exportados correctamente a df_unificado.csv\")\n"
   ]
  }
 ],
 "metadata": {
  "kernelspec": {
   "display_name": "base",
   "language": "python",
   "name": "python3"
  },
  "language_info": {
   "codemirror_mode": {
    "name": "ipython",
    "version": 3
   },
   "file_extension": ".py",
   "mimetype": "text/x-python",
   "name": "python",
   "nbconvert_exporter": "python",
   "pygments_lexer": "ipython3",
   "version": "3.11.7"
  }
 },
 "nbformat": 4,
 "nbformat_minor": 4
}
